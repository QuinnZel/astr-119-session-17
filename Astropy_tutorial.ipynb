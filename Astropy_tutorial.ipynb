{
 "cells": [
  {
   "cell_type": "code",
   "execution_count": null,
   "id": "384e8241",
   "metadata": {},
   "outputs": [],
   "source": [
    "%matplotlib inline\n",
    "import numpy as np\n",
    "import matplotlib.pyplot as plt\n",
    "from astropy.io import fits"
   ]
  },
  {
   "cell_type": "code",
   "execution_count": null,
   "id": "08815fc2",
   "metadata": {},
   "outputs": [],
   "source": [
    "fname = \"HorseHead.fits\"\n",
    "hdu_list = fits.open(fname)\n",
    "hdu_list.info()"
   ]
  },
  {
   "cell_type": "code",
   "execution_count": null,
   "id": "0f6d9ca6",
   "metadata": {},
   "outputs": [],
   "source": [
    "image_data = hdu_list[0].data"
   ]
  },
  {
   "cell_type": "code",
   "execution_count": null,
   "id": "b2070868",
   "metadata": {},
   "outputs": [],
   "source": [
    "print(type(image_data))\n",
    "print(image_data.shape)"
   ]
  },
  {
   "cell_type": "code",
   "execution_count": null,
   "id": "a13c9a4c",
   "metadata": {},
   "outputs": [],
   "source": [
    "hdu_list.close()"
   ]
  },
  {
   "cell_type": "code",
   "execution_count": null,
   "id": "bf1ac30e",
   "metadata": {},
   "outputs": [],
   "source": [
    "image_data = fits.getdata(fname)\n",
    "print(type(image_data))\n",
    "print(image_data.shape)"
   ]
  },
  {
   "cell_type": "code",
   "execution_count": null,
   "id": "cb4bc1ff",
   "metadata": {},
   "outputs": [],
   "source": [
    "plt.imshow(image_data, cmap='gray')\n",
    "plt.colorbar()"
   ]
  },
  {
   "cell_type": "code",
   "execution_count": null,
   "id": "41a83fbf",
   "metadata": {},
   "outputs": [],
   "source": [
    "print('Min:', np.min(image_data))\n",
    "print('Max:', np.max(image_data))\n",
    "print('Mean:', np.mean(image_data))\n",
    "print('Stdev:', np.std(image_data))"
   ]
  },
  {
   "cell_type": "code",
   "execution_count": null,
   "id": "09364c52",
   "metadata": {},
   "outputs": [],
   "source": [
    "histogram = plt.hist(image_data.flatten(), bins='auto')"
   ]
  },
  {
   "cell_type": "code",
   "execution_count": null,
   "id": "4969f2a9",
   "metadata": {},
   "outputs": [],
   "source": [
    "from matplotlib.colors import LogNorm"
   ]
  },
  {
   "cell_type": "code",
   "execution_count": null,
   "id": "1fbdede3",
   "metadata": {},
   "outputs": [],
   "source": [
    "plt.imshow(image_data, cmap='gray', norm=LogNorm())\n",
    "\n",
    "cbar = plt.colorbar(ticks=[5.e3,1.e4,2.e4])\n",
    "cbar.ax.set_yticklabels(['5,000','10,000','20,000'])"
   ]
  },
  {
   "cell_type": "code",
   "execution_count": null,
   "id": "85c45015",
   "metadata": {},
   "outputs": [],
   "source": [
    "image_list = ['M13_blue_0001.fits','M13_blue_0002.fits','M13_blue_0003.fits',\\\n",
    "             'M13_blue_0004.fits','M13_blue_0005.fits']"
   ]
  },
  {
   "cell_type": "code",
   "execution_count": null,
   "id": "1ff6aeb4",
   "metadata": {},
   "outputs": [],
   "source": [
    "image_concat = [fits.getdata(image) for image in image_list]"
   ]
  },
  {
   "cell_type": "code",
   "execution_count": null,
   "id": "1b7f7d2c",
   "metadata": {},
   "outputs": [],
   "source": [
    "final_image = np.sum(image_concat, axis=0)"
   ]
  },
  {
   "cell_type": "code",
   "execution_count": null,
   "id": "957a5743",
   "metadata": {},
   "outputs": [],
   "source": [
    "image_hist = plt.hist(final_image.flatten(), bins='auto')"
   ]
  },
  {
   "cell_type": "code",
   "execution_count": null,
   "id": "b9ea4587",
   "metadata": {},
   "outputs": [],
   "source": [
    "plt.imshow(final_image, cmap='gray', vmin=2E3, vmax=2E3)\n",
    "plt.colorbar()"
   ]
  },
  {
   "cell_type": "code",
   "execution_count": null,
   "id": "97b287f7",
   "metadata": {},
   "outputs": [],
   "source": [
    "outfile = 'stacked_M13_blue.fits'\n",
    "hdu = fits.PrimaryHDU(final_image)\n",
    "hdu.writeto(outfile, overwrite=True)"
   ]
  },
  {
   "cell_type": "code",
   "execution_count": null,
   "id": "2fab9f57",
   "metadata": {},
   "outputs": [],
   "source": []
  }
 ],
 "metadata": {
  "kernelspec": {
   "display_name": "Python 3 (ipykernel)",
   "language": "python",
   "name": "python3"
  },
  "language_info": {
   "codemirror_mode": {
    "name": "ipython",
    "version": 3
   },
   "file_extension": ".py",
   "mimetype": "text/x-python",
   "name": "python",
   "nbconvert_exporter": "python",
   "pygments_lexer": "ipython3",
   "version": "3.9.7"
  }
 },
 "nbformat": 4,
 "nbformat_minor": 5
}
