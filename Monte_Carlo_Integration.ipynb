{
 "cells": [
  {
   "cell_type": "code",
   "execution_count": null,
   "id": "61592ec7",
   "metadata": {},
   "outputs": [],
   "source": [
    "%matplotlib inline\n",
    "import matplotlib.pyplot as plt\n",
    "import numpy as np"
   ]
  },
  {
   "cell_type": "code",
   "execution_count": null,
   "id": "39ea0e9c",
   "metadata": {},
   "outputs": [],
   "source": [
    "n = 10000"
   ]
  },
  {
   "cell_type": "code",
   "execution_count": null,
   "id": "b8bd9c40",
   "metadata": {},
   "outputs": [],
   "source": [
    "x = np.random.uniform(-1,1,n)\n",
    "y = np.random.uniform(-1,1,n)"
   ]
  },
  {
   "cell_type": "code",
   "execution_count": null,
   "id": "a303c5dd",
   "metadata": {},
   "outputs": [],
   "source": [
    "ir = np.where((x**2 + y**2)<1.0 )[0]\n",
    "ur = np.where((x**2 + y**2)>=1.0 )[0]"
   ]
  },
  {
   "cell_type": "code",
   "execution_count": null,
   "id": "b66e7f1b",
   "metadata": {},
   "outputs": [],
   "source": [
    "fig = plt.figure(figsize=(7,7))\n",
    "plt.xlim([-1.1,1.1])\n",
    "plt.ylim([-1.1,1.1])\n",
    "plt.plot(x[ir],y[ir],'.',color=\"blue\")\n",
    "plt.plot(x[ur],y[ur],'.',color=\"0.75\")\n",
    "theta = np.linspace(0,2*np.pi,1000)\n",
    "xc = np.cos(theta)\n",
    "yc = np.sin(theta)\n",
    "plt.plot(xc,yc,color=\"green\" )\n",
    "plt.xlabel('x')\n",
    "plt.ylabel('y')\n",
    "plt.show()"
   ]
  },
  {
   "cell_type": "code",
   "execution_count": null,
   "id": "63e4e09b",
   "metadata": {},
   "outputs": [],
   "source": [
    "pi_approx = 4.0*len(ir)/float(n)\n",
    "\n",
    "error_pi = (pi_approx-np.pi)/np.pi\n",
    "\n",
    "print(\"# of samples = \",n)\n",
    "print(\"Approximate pi = \",pi_approx)\n",
    "print(\"Error in approx = \",error_pi)"
   ]
  },
  {
   "cell_type": "code",
   "execution_count": null,
   "id": "fb7b23aa",
   "metadata": {},
   "outputs": [],
   "source": []
  }
 ],
 "metadata": {
  "kernelspec": {
   "display_name": "Python 3 (ipykernel)",
   "language": "python",
   "name": "python3"
  },
  "language_info": {
   "codemirror_mode": {
    "name": "ipython",
    "version": 3
   },
   "file_extension": ".py",
   "mimetype": "text/x-python",
   "name": "python",
   "nbconvert_exporter": "python",
   "pygments_lexer": "ipython3",
   "version": "3.9.7"
  }
 },
 "nbformat": 4,
 "nbformat_minor": 5
}
